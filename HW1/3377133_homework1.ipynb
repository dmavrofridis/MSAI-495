{
  "cells": [
    {
      "cell_type": "markdown",
      "id": "4b0721fc",
      "metadata": {
        "id": "4b0721fc"
      },
      "source": [
        "# Homework# 1\n",
        "\n",
        "# Name: Dimitrios Mavrofridis\n",
        "# NetID: 3377133\n",
        "\n",
        "## Due date: Monday, January 17, 2022 at 3:30pm\n",
        "## 10pts\n",
        "\n",
        "### Task 1: Build a neural network to train and overfit the noisy $sin$ sample data\n",
        "\n",
        "### Task 2: Build multiple neural networks and use different hyperparameters and activation functions in the process\n",
        "\n",
        "### Task 3: Write a report explaining your findings related to different selections of hyperparameters. (Support your report with loss graphs, prediction fit to the test data).\n",
        "1. learning rate.\n",
        "2. activation functions.\n",
        "3. depth of network (number of hidden layers).\n",
        "3. width of network (number of neurons in layers)."
      ]
    },
    {
      "cell_type": "code",
      "execution_count": 1,
      "id": "f07fa1ce",
      "metadata": {
        "id": "f07fa1ce"
      },
      "outputs": [],
      "source": [
        "import torch\n",
        "torch.manual_seed(0)\n",
        "from torch import nn\n",
        "from torch import optim\n",
        "from torch.utils.data import random_split\n",
        "\n",
        "import numpy as np\n",
        "\n",
        "import matplotlib.pyplot as plt\n",
        "\n",
        "# this is needed to compensate for %matplotl+ib notebook's tendancy to blow up images when plotted inline\n",
        "from matplotlib import rcParams\n",
        "rcParams['figure.autolayout'] = True\n",
        "\n",
        "%matplotlib notebook\n",
        "%load_ext autoreload\n",
        "%autoreload 2"
      ]
    },
    {
      "cell_type": "markdown",
      "id": "ed34c3c1",
      "metadata": {
        "id": "ed34c3c1"
      },
      "source": [
        "# Load and prepare the data by spliting it into a training set and a validation set"
      ]
    },
    {
      "cell_type": "markdown",
      "id": "96965af0",
      "metadata": {
        "id": "96965af0"
      },
      "source": [
        "## 1. load the data from data.csv"
      ]
    },
    {
      "cell_type": "code",
      "execution_count": 2,
      "id": "2ed08d53",
      "metadata": {
        "id": "2ed08d53"
      },
      "outputs": [],
      "source": [
        "data = np.loadtxt('data.csv', delimiter=',')"
      ]
    },
    {
      "cell_type": "markdown",
      "id": "4915c11d",
      "metadata": {
        "id": "4915c11d"
      },
      "source": [
        "## 2. suffle the dataset"
      ]
    },
    {
      "cell_type": "code",
      "execution_count": 3,
      "id": "c8d142d8",
      "metadata": {
        "id": "c8d142d8"
      },
      "outputs": [],
      "source": [
        "tensor_data = torch.from_numpy(data).float()\n",
        "idx = torch.randperm(tensor_data.shape[0])\n",
        "tensor_data = tensor_data[idx].view(tensor_data.size())"
      ]
    },
    {
      "cell_type": "markdown",
      "id": "cbc01b6f",
      "metadata": {
        "id": "cbc01b6f"
      },
      "source": [
        "## 3. split the dataset into training and validation"
      ]
    },
    {
      "cell_type": "code",
      "execution_count": 4,
      "id": "a6bf9449",
      "metadata": {
        "id": "a6bf9449"
      },
      "outputs": [],
      "source": [
        "train_data, test_data = random_split(tensor_data, [150, 50])\n",
        "train_data, validation_data = random_split(train_data, [100, 50])"
      ]
    },
    {
      "cell_type": "code",
      "execution_count": 5,
      "id": "9bedf4f6",
      "metadata": {
        "id": "9bedf4f6"
      },
      "outputs": [],
      "source": [
        "train_x = tensor_data[train_data.indices].numpy()[:,:-1]\n",
        "train_y = tensor_data[train_data.indices].numpy()[:,-1:]\n",
        "validation_x = tensor_data[validation_data.indices].numpy()[:,:-1]\n",
        "validation_y = tensor_data[validation_data.indices].numpy()[:,-1:]\n",
        "test_x = tensor_data[test_data.indices].numpy()[:,:-1]\n",
        "test_y = tensor_data[test_data.indices].numpy()[:,-1:]"
      ]
    },
    {
      "cell_type": "markdown",
      "id": "a086681c",
      "metadata": {
        "id": "a086681c"
      },
      "source": [
        "## 4. plot each of the train and validation datasets"
      ]
    },
    {
      "cell_type": "code",
      "execution_count": 6,
      "id": "b3d16c81",
      "metadata": {
        "scrolled": false,
        "colab": {
          "base_uri": "https://localhost:8080/",
          "height": 314
        },
        "id": "b3d16c81",
        "outputId": "43a89fb5-4a22-43f5-c0a2-77be8cbc546c"
      },
      "outputs": [
        {
          "output_type": "execute_result",
          "data": {
            "text/plain": [
              "<matplotlib.collections.PathCollection at 0x7fde04b2f650>"
            ]
          },
          "metadata": {},
          "execution_count": 6
        },
        {
          "output_type": "display_data",
          "data": {
            "image/png": "[encoded data removed]",
            "text/plain": [
              "<Figure size 432x288 with 1 Axes>"
            ]
          },
          "metadata": {
            "needs_background": "light"
          }
        }
      ],
      "source": [
        "fig = plt.figure()\n",
        "ax = plt.axes()\n",
        "ax.scatter(train_x, train_y)"
      ]
    },
    {
      "cell_type": "code",
      "execution_count": 7,
      "id": "cb993d1e",
      "metadata": {
        "colab": {
          "base_uri": "https://localhost:8080/",
          "height": 314
        },
        "id": "cb993d1e",
        "outputId": "21dc5454-4c5a-4770-a779-9073ec41c804"
      },
      "outputs": [
        {
          "output_type": "execute_result",
          "data": {
            "text/plain": [
              "<matplotlib.collections.PathCollection at 0x7fddfca46210>"
            ]
          },
          "metadata": {},
          "execution_count": 7
        },
        {
          "output_type": "display_data",
          "data": {
            "image/png": "[encoded data removed]",
            "text/plain": [
              "<Figure size 432x288 with 1 Axes>"
            ]
          },
          "metadata": {
            "needs_background": "light"
          }
        }
      ],
      "source": [
        "fig = plt.figure()\n",
        "ax = plt.axes()\n",
        "ax.scatter(validation_x, validation_y)"
      ]
    },
    {
      "cell_type": "code",
      "execution_count": 8,
      "id": "c51242df",
      "metadata": {
        "colab": {
          "base_uri": "https://localhost:8080/",
          "height": 314
        },
        "id": "c51242df",
        "outputId": "b45b28c3-b205-433a-954f-6becc55aea7b"
      },
      "outputs": [
        {
          "output_type": "execute_result",
          "data": {
            "text/plain": [
              "<matplotlib.collections.PathCollection at 0x7fddfc9c7410>"
            ]
          },
          "metadata": {},
          "execution_count": 8
        },
        {
          "output_type": "display_data",
          "data": {
            "image/png": "[encoded data removed]",
            "text/plain": [
              "<Figure size 432x288 with 1 Axes>"
            ]
          },
          "metadata": {
            "needs_background": "light"
          }
        }
      ],
      "source": [
        "fig = plt.figure()\n",
        "ax = plt.axes()\n",
        "ax.scatter(test_x, test_y)"
      ]
    },
    {
      "cell_type": "markdown",
      "id": "68800bde",
      "metadata": {
        "id": "68800bde"
      },
      "source": [
        "## helper function to make predictions"
      ]
    },
    {
      "cell_type": "code",
      "execution_count": 9,
      "id": "d469580d",
      "metadata": {
        "id": "d469580d"
      },
      "outputs": [],
      "source": [
        "def predict(trained_model, x):\n",
        "    with torch.no_grad():\n",
        "        logits = trained_model(x)\n",
        "    return logits.numpy()"
      ]
    },
    {
      "cell_type": "markdown",
      "id": "8ab989c4",
      "metadata": {
        "id": "8ab989c4"
      },
      "source": [
        "## convert numpy arrays to pytorch tensors"
      ]
    },
    {
      "cell_type": "code",
      "execution_count": 10,
      "id": "70ecd34e",
      "metadata": {
        "id": "70ecd34e"
      },
      "outputs": [],
      "source": [
        "train_x = torch.from_numpy(np.array(train_x)).float()\n",
        "train_y = torch.from_numpy(np.array(train_y)).float()\n",
        "\n",
        "validation_x = torch.from_numpy(np.array(validation_x)).float()\n",
        "validation_y = torch.from_numpy(np.array(validation_y)).float()\n",
        "\n",
        "test_x = torch.from_numpy(np.array(test_x)).float()\n",
        "test_y = torch.from_numpy(np.array(test_y)).float()"
      ]
    },
    {
      "cell_type": "markdown",
      "id": "056be75d",
      "metadata": {
        "id": "056be75d"
      },
      "source": [
        "# Example Network"
      ]
    },
    {
      "cell_type": "markdown",
      "id": "dd695d26",
      "metadata": {
        "id": "dd695d26"
      },
      "source": [
        "## set your hyperparameters and define model"
      ]
    },
    {
      "cell_type": "code",
      "execution_count": 11,
      "id": "c0b1f047",
      "metadata": {
        "id": "c0b1f047"
      },
      "outputs": [],
      "source": [
        "number_of_epochs = 100\n",
        "learning_rate = 1e-2\n",
        "\n",
        "example_model = nn.Sequential(\n",
        "    nn.Linear(1, 5),\n",
        "    nn.ReLU(),\n",
        "    nn.Linear(5, 1)\n",
        ")\n",
        "\n",
        "optimizer = optim.SGD(example_model.parameters(), lr=learning_rate)\n",
        "loss = nn.MSELoss()"
      ]
    },
    {
      "cell_type": "code",
      "execution_count": 12,
      "id": "217d63db",
      "metadata": {
        "scrolled": true,
        "id": "217d63db"
      },
      "outputs": [],
      "source": [
        "def train_model(model, optimizer, loss, number_of_epochs, learning_rate):\n",
        "    train_losses_history = []\n",
        "    validation_losses_history = []\n",
        "\n",
        "    for epoch in range(number_of_epochs):\n",
        "        train_losses = []\n",
        "\n",
        "        # training steps\n",
        "        # forward pass\n",
        "        logits = model(train_x)\n",
        "\n",
        "        # compute the objective function\n",
        "        objective = loss(logits, train_y)\n",
        "\n",
        "        # clean the gradients\n",
        "        model.zero_grad()\n",
        "\n",
        "        # computer the partial derivative of the gradients of the objective function wrt to the parameters\n",
        "        objective.backward()\n",
        "\n",
        "        # step in the opposite direction of the gradient\n",
        "        optimizer.step()\n",
        "\n",
        "        train_losses = objective.item()\n",
        "        train_mean_loss = torch.tensor(train_losses).mean().item()\n",
        "        train_losses_history.append(train_mean_loss)\n",
        "\n",
        "        validation_losses = []\n",
        "\n",
        "        # validation steps\n",
        "        # forward pass\n",
        "        with torch.no_grad():\n",
        "            logits = model(validation_x)\n",
        "\n",
        "        # compute the objective function\n",
        "        objective = loss(logits, validation_y)\n",
        "\n",
        "        validation_losses = objective.item()\n",
        "        validation_mean_loss = torch.tensor(validation_losses).mean().item()\n",
        "\n",
        "#         print(f\"Epoch# {epoch + 1}, training loss {mean_loss}, validation loss {validation_mean_loss}\")\n",
        "        validation_losses_history.append(validation_mean_loss)\n",
        "    return train_losses_history, validation_losses_history"
      ]
    },
    {
      "cell_type": "code",
      "execution_count": 13,
      "id": "6388b42b",
      "metadata": {
        "id": "6388b42b"
      },
      "outputs": [],
      "source": [
        "train_loss, validation_loss = train_model(example_model, optimizer, loss, number_of_epochs, learning_rate)"
      ]
    },
    {
      "cell_type": "code",
      "execution_count": 14,
      "id": "12fea998",
      "metadata": {
        "colab": {
          "base_uri": "https://localhost:8080/",
          "height": 314
        },
        "id": "12fea998",
        "outputId": "5648322d-5fd1-4d0b-9902-b21206d085fd"
      },
      "outputs": [
        {
          "output_type": "execute_result",
          "data": {
            "text/plain": [
              "[<matplotlib.lines.Line2D at 0x7fddfc0b8e50>]"
            ]
          },
          "metadata": {},
          "execution_count": 14
        },
        {
          "output_type": "display_data",
          "data": {
            "image/png": "[encoded data removed]",
            "text/plain": [
              "<Figure size 432x288 with 1 Axes>"
            ]
          },
          "metadata": {
            "needs_background": "light"
          }
        }
      ],
      "source": [
        "fig = plt.figure()\n",
        "ax = plt.axes()\n",
        "# x = x.numpy()\n",
        "# y = y.numpy()\n",
        "ax.scatter(test_x, test_y)\n",
        "x1 = torch.tensor(np.linspace(0, 8.0, 200).reshape(-1,1)).float()\n",
        "ax.plot(x1, predict(example_model, x1), \"k\", linewidth=3)"
      ]
    },
    {
      "cell_type": "code",
      "execution_count": 15,
      "id": "076cf7e0",
      "metadata": {
        "colab": {
          "base_uri": "https://localhost:8080/",
          "height": 314
        },
        "id": "076cf7e0",
        "outputId": "cd8fd516-b951-4885-9524-c7d73e4e9eae"
      },
      "outputs": [
        {
          "output_type": "execute_result",
          "data": {
            "text/plain": [
              "[<matplotlib.lines.Line2D at 0x7fddfc033a50>]"
            ]
          },
          "metadata": {},
          "execution_count": 15
        },
        {
          "output_type": "display_data",
          "data": {
            "image/png": "[encoded data removed]",
            "text/plain": [
              "<Figure size 432x288 with 1 Axes>"
            ]
          },
          "metadata": {
            "needs_background": "light"
          }
        }
      ],
      "source": [
        "fig = plt.figure()\n",
        "ax = plt.axes()\n",
        "ax.plot(train_loss, \"b\")\n",
        "ax.plot(validation_loss, \"r\")"
      ]
    },
    {
      "cell_type": "markdown",
      "id": "be12af0f",
      "metadata": {
        "id": "be12af0f"
      },
      "source": [
        "# Q0: Study the above example to understand the training and validation loop. You will be training a set of models to fit the loaded data."
      ]
    },
    {
      "cell_type": "markdown",
      "id": "08eb554a",
      "metadata": {
        "id": "08eb554a"
      },
      "source": [
        "# Q1 (3pts): The following two cells display an output of a model that is overfitting the data. Try to build a model that achieves the same goal. (hint: go for width and depth.)"
      ]
    },
    {
      "cell_type": "code",
      "execution_count": 26,
      "id": "be8aa36c",
      "metadata": {
        "scrolled": false,
        "colab": {
          "base_uri": "https://localhost:8080/",
          "height": 314
        },
        "id": "be8aa36c",
        "outputId": "caaee210-6cc7-44a2-beb8-3487bdea7427"
      },
      "outputs": [
        {
          "output_type": "execute_result",
          "data": {
            "text/plain": [
              "[<matplotlib.lines.Line2D at 0x7fddfc9bdb50>]"
            ]
          },
          "metadata": {},
          "execution_count": 26
        },
        {
          "output_type": "display_data",
          "data": {
            "image/png": "[encoded data removed]",
            "text/plain": [
              "<Figure size 432x288 with 1 Axes>"
            ]
          },
          "metadata": {
            "needs_background": "light"
          }
        }
      ],
      "source": [
        "# Overfitting Model 0\n",
        "number_of_epochs = 10000\n",
        "learning_rate = 1e-2\n",
        "\n",
        "complex_model = nn.Sequential(\n",
        "    nn.Linear(1, 10),\n",
        "    nn.ReLU(),\n",
        "    nn.Linear(10, 5),\n",
        "    nn.ReLU(),\n",
        "    nn.Linear(5, 1)\n",
        ")\n",
        "\n",
        "optimizer = optim.SGD(complex_model.parameters(), lr=learning_rate)\n",
        "loss = nn.MSELoss()\n",
        "\n",
        "train_loss, validation_loss = train_model(complex_model, optimizer, loss, number_of_epochs, learning_rate)\n",
        "fig = plt.figure()\n",
        "ax = plt.axes()\n",
        "ax.plot(train_loss, \"b\")\n",
        "ax.plot(validation_loss, \"r\")"
      ]
    },
    {
      "cell_type": "code",
      "execution_count": 27,
      "id": "e88f9020",
      "metadata": {
        "colab": {
          "base_uri": "https://localhost:8080/",
          "height": 314
        },
        "id": "e88f9020",
        "outputId": "62d0431c-ff68-4bf8-cd40-69246102f74b"
      },
      "outputs": [
        {
          "output_type": "execute_result",
          "data": {
            "text/plain": [
              "[<matplotlib.lines.Line2D at 0x7fddfbdb9a50>]"
            ]
          },
          "metadata": {},
          "execution_count": 27
        },
        {
          "output_type": "display_data",
          "data": {
            "image/png": "[encoded data removed]",
            "text/plain": [
              "<Figure size 432x288 with 1 Axes>"
            ]
          },
          "metadata": {
            "needs_background": "light"
          }
        }
      ],
      "source": [
        "fig = plt.figure()\n",
        "ax = plt.axes()\n",
        "# x = x.numpy()\n",
        "# y = y.numpy()\n",
        "ax.scatter(test_x, test_y)\n",
        "x1 = torch.tensor(np.linspace(0, 8.0, 200).reshape(-1,1)).float()\n",
        "ax.plot(x1, predict(complex_model, x1), \"k\", linewidth=3)"
      ]
    },
    {
      "cell_type": "markdown",
      "id": "f4be89f9",
      "metadata": {
        "id": "f4be89f9"
      },
      "source": [
        "# Q2 (4 pts): Duplicate the above two cells and experiment creating different networks, experiment with the depth and the width of networks, the learning rate, the number of epochs, and the activation function."
      ]
    },
    {
      "cell_type": "markdown",
      "id": "2b95d960",
      "metadata": {
        "id": "2b95d960"
      },
      "source": [
        "Some examples:\n",
        "1. learning rate: 0.1, 0.01, 0.001 etc.\n",
        "2. activation functions: tanh, sigmoid, relu etc.\n",
        "3. depth of network: 2 hidden layers, 3 hidden layers, 4 hidden layers, etc."
      ]
    },
    {
      "cell_type": "code",
      "execution_count": 28,
      "id": "007e625d",
      "metadata": {
        "colab": {
          "base_uri": "https://localhost:8080/",
          "height": 314
        },
        "id": "007e625d",
        "outputId": "b5b6f839-74a1-4b29-c5ec-e45933ca8f94"
      },
      "outputs": [
        {
          "output_type": "execute_result",
          "data": {
            "text/plain": [
              "[<matplotlib.lines.Line2D at 0x7fddfba94350>]"
            ]
          },
          "metadata": {},
          "execution_count": 28
        },
        {
          "output_type": "display_data",
          "data": {
            "image/png": "[encoded data removed]",
            "text/plain": [
              "<Figure size 432x288 with 1 Axes>"
            ]
          },
          "metadata": {
            "needs_background": "light"
          }
        }
      ],
      "source": [
        "# Overfitting model 1\n",
        "number_of_epochs = 500\n",
        "learning_rate = 0.1\n",
        "\n",
        "complex_model = nn.Sequential(\n",
        "    nn.Linear(1, 25),\n",
        "    nn.ReLU(),\n",
        "    nn.Linear(25, 20),\n",
        "    nn.ReLU(),\n",
        "    nn.Linear(20, 15),\n",
        "    nn.ReLU(),\n",
        "    nn.Linear(15, 5),\n",
        "    nn.ReLU(),\n",
        "    nn.Linear(5, 1)\n",
        ")\n",
        "\n",
        "optimizer = optim.SGD(complex_model.parameters(), lr=learning_rate)\n",
        "loss = nn.MSELoss()\n",
        "\n",
        "train_loss, validation_loss = train_model(complex_model, optimizer, loss, number_of_epochs, learning_rate)\n",
        "fig = plt.figure()\n",
        "ax = plt.axes()\n",
        "ax.plot(train_loss, \"b\")\n",
        "ax.plot(validation_loss, \"r\")"
      ]
    },
    {
      "cell_type": "code",
      "source": [
        "fig = plt.figure()\n",
        "ax = plt.axes()\n",
        "# x = x.numpy()\n",
        "# y = y.numpy()\n",
        "ax.scatter(test_x, test_y)\n",
        "x1 = torch.tensor(np.linspace(0, 8.0, 200).reshape(-1,1)).float()\n",
        "ax.plot(x1, predict(complex_model, x1), \"k\", linewidth=3)"
      ],
      "metadata": {
        "colab": {
          "base_uri": "https://localhost:8080/",
          "height": 314
        },
        "id": "qA89NUVPArSW",
        "outputId": "d00e9792-36ed-4ac2-c410-dbf4a45634ff"
      },
      "id": "qA89NUVPArSW",
      "execution_count": 29,
      "outputs": [
        {
          "output_type": "execute_result",
          "data": {
            "text/plain": [
              "[<matplotlib.lines.Line2D at 0x7fddfbba9e50>]"
            ]
          },
          "metadata": {},
          "execution_count": 29
        },
        {
          "output_type": "display_data",
          "data": {
            "image/png": "[encoded data removed]",
            "text/plain": [
              "<Figure size 432x288 with 1 Axes>"
            ]
          },
          "metadata": {
            "needs_background": "light"
          }
        }
      ]
    },
    {
      "cell_type": "markdown",
      "id": "35c6fb3d",
      "metadata": {
        "id": "35c6fb3d"
      },
      "source": [
        "# Q3 (3 pts): Use markdown and write a few paragraphs explaining your finding from the above experiments. Describe how do you interpret each network performance was affected by the hyperparameters and design. (Hint: Explain it as if you're presenting to a non-technical individual.)"
      ]
    },
    {
      "cell_type": "markdown",
      "source": [
        ""
      ],
      "metadata": {
        "id": "BTDrAOQ6BJP6"
      },
      "id": "BTDrAOQ6BJP6"
    },
    {
      "cell_type": "code",
      "execution_count": null,
      "id": "ad523e80",
      "metadata": {
        "id": "ad523e80"
      },
      "outputs": [],
      "source": [
        ""
      ]
    }
  ],
  "metadata": {
    "kernelspec": {
      "display_name": "Python 3 (ipykernel)",
      "language": "python",
      "name": "python3"
    },
    "language_info": {
      "codemirror_mode": {
        "name": "ipython",
        "version": 3
      },
      "file_extension": ".py",
      "mimetype": "text/x-python",
      "name": "python",
      "nbconvert_exporter": "python",
      "pygments_lexer": "ipython3",
      "version": "3.8.8"
    },
    "colab": {
      "name": "Homework1.ipynb",
      "provenance": [],
      "collapsed_sections": []
    }
  },
  "nbformat": 4,
  "nbformat_minor": 5
}